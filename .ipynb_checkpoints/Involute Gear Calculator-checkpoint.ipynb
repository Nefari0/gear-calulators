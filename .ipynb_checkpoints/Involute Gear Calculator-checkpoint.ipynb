{
 "cells": [
  {
   "cell_type": "code",
   "execution_count": 2,
   "metadata": {},
   "outputs": [],
   "source": [
    "import numpy as np\n",
    "import matplotlib.pyplot as plt"
   ]
  },
  {
   "cell_type": "code",
   "execution_count": 3,
   "metadata": {},
   "outputs": [
    {
     "name": "stdout",
     "output_type": "stream",
     "text": [
      "1.0\n"
     ]
    }
   ],
   "source": [
    "# gear one parameters # experimental/default\n",
    "# this will be the larger gear with 20 teeth\n",
    "\n",
    "z1 = 20 # number of teeth \n",
    "ref_dia1 = 20 # reference diameter\n",
    "pitch1 = (np.pi*ref_dia1) / z1 # pitch\n",
    "module1 = ref_dia1 / z1 # module\n",
    "print(module1)"
   ]
  },
  {
   "cell_type": "code",
   "execution_count": 7,
   "metadata": {},
   "outputs": [],
   "source": [
    "# expected results\n",
    "u1_min = 0 \n",
    "u1_max = .6085\n",
    "u1_step = 10\n",
    "u1 = np.linspace(0,u1_max,u1_step)\n",
    "x1 = 9.3969 * (np.cos(u1) + u1 * np.sin(u1))\n",
    "x2 = 9.3969 * (np.sin(u1) - u1 * np.cos(u1))\n"
   ]
  },
  {
   "cell_type": "code",
   "execution_count": 13,
   "metadata": {},
   "outputs": [
    {
     "name": "stdout",
     "output_type": "stream",
     "text": [
      "0.625\n"
     ]
    }
   ],
   "source": [
    "print(module1)"
   ]
  },
  {
   "cell_type": "code",
   "execution_count": null,
   "metadata": {},
   "outputs": [],
   "source": [
    "# gear one calulation"
   ]
  },
  {
   "cell_type": "code",
   "execution_count": 32,
   "metadata": {},
   "outputs": [
    {
     "name": "stdout",
     "output_type": "stream",
     "text": [
      "1.0\n"
     ]
    }
   ],
   "source": [
    "# gear two parameters # experimental/default\n",
    "z2 = 10 # number of teeth\n",
    "ref_dia2 = 10 # reference diameter\n",
    "pitch2 = (np.pi*ref_dia2) / z2 # pitch\n",
    "module2 = ref_dia2 / z2 # module\n",
    "print(module2)"
   ]
  },
  {
   "cell_type": "code",
   "execution_count": 15,
   "metadata": {},
   "outputs": [
    {
     "name": "stdout",
     "output_type": "stream",
     "text": [
      "0.6\n"
     ]
    }
   ],
   "source": [
    "print(module2)"
   ]
  }
 ],
 "metadata": {
  "kernelspec": {
   "display_name": "Python 3",
   "language": "python",
   "name": "python3"
  },
  "language_info": {
   "codemirror_mode": {
    "name": "ipython",
    "version": 3
   },
   "file_extension": ".py",
   "mimetype": "text/x-python",
   "name": "python",
   "nbconvert_exporter": "python",
   "pygments_lexer": "ipython3",
   "version": "3.8.5"
  }
 },
 "nbformat": 4,
 "nbformat_minor": 4
}
