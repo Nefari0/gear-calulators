{
 "cells": [
  {
   "cell_type": "code",
   "execution_count": 2,
   "metadata": {},
   "outputs": [],
   "source": [
    "import numpy as np\n",
    "import matplotlib.pyplot as plt"
   ]
  },
  {
   "cell_type": "code",
   "execution_count": 29,
   "metadata": {},
   "outputs": [
    {
     "name": "stdout",
     "output_type": "stream",
     "text": [
      "1.0\n"
     ]
    }
   ],
   "source": [
    "# gear one parameters # experimental/default\n",
    "# this will be the larger gear with 20 teeth\n",
    "# this cell is contains the imput parameters for gear one. The objective is to use this information to calutate all the parameters of the cell(s) below\n",
    "\n",
    "u = np.linspace(0,2*np.pi,200)\n",
    "z1 = 20 # number of teeth \n",
    "ref_dia1 = 20 # reference diameter\n",
    "ref_radius1 = ref_dia1 / 2 # reference radius\n",
    "base_dia1 = 18.7939\n",
    "base_radius_1 = base_dia1 / 2\n",
    "z1_thickness = 10.7079\n",
    "pitch1 = (np.pi*ref_dia1) / z1 # pitch\n",
    "module1 = ref_dia1 / z1 # module\n",
    "print(module1)"
   ]
  },
  {
   "cell_type": "code",
   "execution_count": 30,
   "metadata": {},
   "outputs": [],
   "source": [
    "# expected results from cell above (20 degree pressure angle)\n",
    "# these are the pre-determined parameters to test the 'calculated' parameters agains\n",
    "u1_min = 0\n",
    "u1_max = .6085\n",
    "u1_step = 10\n",
    "u1 = np.linspace(0,u1_max,u1_step)\n",
    "x1 = 9.3969 * (np.cos(u1) + u1 * np.sin(u1))\n",
    "y1 = 9.3969 * (np.sin(u1) - u1 * np.cos(u1))\n"
   ]
  },
  {
   "cell_type": "markdown",
   "metadata": {},
   "source": [
    "#####  Test Metrics unit 2"
   ]
  },
  {
   "cell_type": "code",
   "execution_count": 31,
   "metadata": {},
   "outputs": [
    {
     "name": "stdout",
     "output_type": "stream",
     "text": [
      "1.0\n"
     ]
    }
   ],
   "source": [
    "# this cell compares metrics from obove cell with same mitrics using a 30 degree pressure angle\n",
    "z1_2 = 20 # number of teeth \n",
    "ref_dia1_2 = 20 # reference diameter\n",
    "ref_radius1_2 = ref_dia1 / 2 # reference radius\n",
    "base_dia1_2 = 17.3205\n",
    "base_radius_2 = base_dia1_2 / 2\n",
    "tip_diameter_2 = 22\n",
    "z1_2_thickness = 15.1595\n",
    "pitch1_2 = (np.pi*ref_dia1_2) / z1_2 # pitch\n",
    "module1_2 = ref_dia1_2 / z1_2 # module\n",
    "print(module1_2)"
   ]
  },
  {
   "cell_type": "code",
   "execution_count": 46,
   "metadata": {},
   "outputs": [],
   "source": [
    "# expected results from above cell\n",
    "u1_min2 = 0\n",
    "u1_max2 = .7832\n",
    "u1_step2 = 10\n",
    "u1_2 = np.linspace(0,u1_max2,u1_step2)\n",
    "x1_2 = 8.6603 * (np.cos(u1_2) + u1_2 * np.sin(u1_2))\n",
    "y1_2 = 8.6603 * (np.sin(u1_2) - u1_2 * np.cos(u1_2))"
   ]
  },
  {
   "cell_type": "markdown",
   "metadata": {},
   "source": [
    "##### TestMetrics Unit 3"
   ]
  },
  {
   "cell_type": "code",
   "execution_count": 53,
   "metadata": {},
   "outputs": [
    {
     "name": "stdout",
     "output_type": "stream",
     "text": [
      "1.0\n"
     ]
    }
   ],
   "source": [
    "# this cell compares metrics from obove cell with same mitrics using a 40 degree pressure angle\n",
    "z1_3 = 20 # number of teeth \n",
    "ref_dia1_3 = 20 # reference diameter\n",
    "ref_radius1_3 = ref_dia1 / 2 # reference radius\n",
    "base_dia1_3 = 15.3209\n",
    "base_radius_3 = base_dia1_3 / 2\n",
    "tip_diameter_3 = 22\n",
    "z1_3_thickness = 25.1537\n",
    "pitch1_3 = (np.pi*ref_dia1_3) / z1_2 # pitch\n",
    "module1_3 = ref_dia1_3 / z1_3 # module\n",
    "print(module1_3)"
   ]
  },
  {
   "cell_type": "code",
   "execution_count": 54,
   "metadata": {},
   "outputs": [],
   "source": [
    "# expected results from above cell\n",
    "u1_min3 = 0\n",
    "u1_max3 = .7832\n",
    "u1_step3 = 10\n",
    "u1_3 = np.linspace(0,u1_max3,u1_step3)\n",
    "x1_3 = 7.6604 * (np.cos(u1_3) + u1_3 * np.sin(u1_3))\n",
    "y1_3 = 7.6604 * (np.sin(u1_3) - u1_3 * np.cos(u1_3))"
   ]
  },
  {
   "cell_type": "code",
   "execution_count": 55,
   "metadata": {},
   "outputs": [
    {
     "data": {
      "text/plain": [
       "(5.0, 15.0, -5.0, 5.0)"
      ]
     },
     "execution_count": 55,
     "metadata": {},
     "output_type": "execute_result"
    },
    {
     "data": {
      "image/png": "[encoded data removed]",
      "text/plain": [
       "<Figure size 432x288 with 1 Axes>"
      ]
     },
     "metadata": {
      "needs_background": "light"
     },
     "output_type": "display_data"
    }
   ],
   "source": [
    "# plotting\n",
    "\n",
    "# unit one\n",
    "plt.plot(x1,y1)\n",
    "plt.plot(base_radius_1*np.cos(u),base_radius_1*np.sin(u), label='first')\n",
    "\n",
    "# unit two\n",
    "plt.plot(x1_2,y1_2)\n",
    "plt.plot(base_radius_2*np.cos(u),base_radius_2*np.sin(u), label='second')\n",
    "\n",
    "# unit three\n",
    "plt.plot(x1_3,y1_3)\n",
    "plt.plot(base_radius_3*np.cos(u),base_radius_3*np.sin(u))\n",
    "\n",
    "plt.legend()\n",
    "plt.axis('square')\n",
    "plt.grid()\n",
    "# plt.axis([-12,12,-12,12])\n",
    "plt.axis([5,15,-5,5])"
   ]
  },
  {
   "cell_type": "code",
   "execution_count": null,
   "metadata": {},
   "outputs": [],
   "source": [
    "# gear one calulation"
   ]
  },
  {
   "cell_type": "code",
   "execution_count": 32,
   "metadata": {},
   "outputs": [
    {
     "name": "stdout",
     "output_type": "stream",
     "text": [
      "1.0\n"
     ]
    }
   ],
   "source": [
    "# gear two parameters # experimental/default\n",
    "z2 = 10 # number of teeth\n",
    "ref_dia2 = 10 # reference diameter\n",
    "pitch2 = (np.pi*ref_dia2) / z2 # pitch\n",
    "module2 = ref_dia2 / z2 # module\n",
    "print(module2)"
   ]
  },
  {
   "cell_type": "code",
   "execution_count": 15,
   "metadata": {},
   "outputs": [
    {
     "name": "stdout",
     "output_type": "stream",
     "text": [
      "0.6\n"
     ]
    }
   ],
   "source": [
    "print(module2)"
   ]
  }
 ],
 "metadata": {
  "kernelspec": {
   "display_name": "Python 3",
   "language": "python",
   "name": "python3"
  },
  "language_info": {
   "codemirror_mode": {
    "name": "ipython",
    "version": 3
   },
   "file_extension": ".py",
   "mimetype": "text/x-python",
   "name": "python",
   "nbconvert_exporter": "python",
   "pygments_lexer": "ipython3",
   "version": "3.8.5"
  }
 },
 "nbformat": 4,
 "nbformat_minor": 4
}
