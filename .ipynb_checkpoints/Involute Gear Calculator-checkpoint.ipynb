{
 "cells": [
  {
   "cell_type": "code",
   "execution_count": 1,
   "metadata": {},
   "outputs": [],
   "source": [
    "import numpy as np\n",
    "import matplotlib.pyplot as plt\n",
    "from IPython.display import display, Math\n",
    "import sympy as sym"
   ]
  },
  {
   "cell_type": "markdown",
   "metadata": {},
   "source": [
    "### Gear Metrics Testing"
   ]
  },
  {
   "cell_type": "code",
   "execution_count": 3,
   "metadata": {},
   "outputs": [],
   "source": [
    "# The test cells below are for analyzing the parameters of gears \n",
    "# with different numbers of teeth. they are not part of the calulation \n",
    "# algorithm"
   ]
  },
  {
   "cell_type": "code",
   "execution_count": 4,
   "metadata": {},
   "outputs": [],
   "source": [
    "# module = pitch/pi or (reference diameter)/(the number of teeth)"
   ]
  },
  {
   "cell_type": "markdown",
   "metadata": {},
   "source": [
    "#####  Test Metrics unit 1"
   ]
  },
  {
   "cell_type": "code",
   "execution_count": 53,
   "metadata": {},
   "outputs": [
    {
     "name": "stdout",
     "output_type": "stream",
     "text": [
      "1.0\n"
     ]
    }
   ],
   "source": [
    "# this will be the larger gear with 20 teeth\n",
    "# this cell is contains the imput parameters for gear one. The objective is to use this information to calutate all the parameters of the cell(s) below\n",
    "\n",
    "u = np.linspace(0,2*np.pi,200)\n",
    "z1 = 20 # number of teeth \n",
    "ref_dia1 = 20 # reference diameter\n",
    "ref_radius1 = ref_dia1 / 2 # reference radius\n",
    "base_dia1 = 18.7939\n",
    "base_radius_1 = base_dia1 / 2\n",
    "z1_thickness = 10.7079 # tooth thickness at base\n",
    "tip_diameter_1 = 22\n",
    "# pitch1 = (np.pi*ref_dia1) / z1 # pitch\n",
    "pitch1 = np.pi / z1 # pitch\n",
    "module1 = ref_dia1 / z1 # module\n",
    "print(module1)"
   ]
  },
  {
   "cell_type": "code",
   "execution_count": 67,
   "metadata": {},
   "outputs": [
    {
     "name": "stdout",
     "output_type": "stream",
     "text": [
      "0.3141592653589793\n"
     ]
    }
   ],
   "source": [
    "print((2*np.pi)/(z1))"
   ]
  },
  {
   "cell_type": "code",
   "execution_count": 68,
   "metadata": {},
   "outputs": [
    {
     "name": "stdout",
     "output_type": "stream",
     "text": [
      "What angle to convert?0.3141592653589793\n",
      "Which unit did you input (radians or degrees)?rad\n"
     ]
    },
    {
     "data": {
      "image/png": "[encoded data removed]",
      "text/plain": [
       "<Figure size 432x288 with 1 Axes>"
      ]
     },
     "metadata": {
      "needs_background": "light"
     },
     "output_type": "display_data"
    }
   ],
   "source": [
    "# converting between radians and degrees\n",
    "def angle_convert_plot():\n",
    "    \n",
    "    #get the inputs from the user\n",
    "    angle = eval( input('What angle to convert?') )\n",
    "    unit = input('Which unit did you input (radians or degrees)?')\n",
    "    \n",
    "    if unit[0].lower() == 'r':\n",
    "        rad = angle\n",
    "        deg = np.rad2deg(angle)\n",
    "    elif unit[0].lower() =='d':\n",
    "        deg = angle\n",
    "        rad = np.deg2rad(angle)\n",
    "    else:\n",
    "        raise ValueError('Unknown Unit!')\n",
    "        \n",
    "    # convert to <360\n",
    "    \n",
    "    deg = deg%360\n",
    "    rad = rad%(2*np.pi)\n",
    "    \n",
    "    # make the graph\n",
    "    plt.plot([0,1],[0,0],'r',linewidth=2)\n",
    "    plt.plot([0,np.cos(rad)],[0,np.sin(rad)],'r',linewidth=3) \n",
    "    plt.axis('square')\n",
    "    plt.axis([-1,1,-1,1])\n",
    "    plt.grid()\n",
    "    plt.title('Anlge is %s$^o$ or %s radians.' %(deg,rad))\n",
    "    plt.show()\n",
    "    \n",
    "# -------- call function----------\n",
    "angle_convert_plot()"
   ]
  },
  {
   "cell_type": "code",
   "execution_count": 45,
   "metadata": {},
   "outputs": [
    {
     "name": "stdout",
     "output_type": "stream",
     "text": [
      "2.9521389086150607\n"
     ]
    }
   ],
   "source": [
    "print(base_dia1 * np.pi / z1)"
   ]
  },
  {
   "cell_type": "code",
   "execution_count": 13,
   "metadata": {},
   "outputs": [],
   "source": [
    "# expected results from cell above (20 teeth)\n",
    "# these are the pre-determined parameters to test the 'calculated' parameters agains\n",
    "u1_min = 0\n",
    "u1_max = .6085\n",
    "u1_step = 10\n",
    "u1 = np.linspace(u1_min,u1_max,u1_step)\n",
    "x1 = 9.3969 * (np.cos(u1) + u1 * np.sin(u1))\n",
    "y1 = 9.3969 * (np.sin(u1) - u1 * np.cos(u1))"
   ]
  },
  {
   "cell_type": "markdown",
   "metadata": {},
   "source": [
    "#####  Test Metrics unit 2"
   ]
  },
  {
   "cell_type": "code",
   "execution_count": 3,
   "metadata": {},
   "outputs": [
    {
     "name": "stdout",
     "output_type": "stream",
     "text": [
      "1.0\n"
     ]
    }
   ],
   "source": [
    "# this cell compares metrics from obove cell with same mitrics using 21 teeth\n",
    "z2 = 21 # number of teeth \n",
    "ref_dia2 = 21 # reference diameter\n",
    "ref_radius2 = ref_dia2 / 2 # reference radius\n",
    "base_dia2 = 19.7335\n",
    "base_radius2 = base_dia2 / 2\n",
    "tip_diameter2 = 32\n",
    "z2_thickness = 10.2793\n",
    "pitch2 = (np.pi*ref_dia2) / z2 # pitch\n",
    "module2 = ref_dia2 / z2 # module\n",
    "print(module2)"
   ]
  },
  {
   "cell_type": "code",
   "execution_count": 10,
   "metadata": {},
   "outputs": [],
   "source": [
    "# expected results from above cell\n",
    "u2_min = 0\n",
    "u2_max = .5987\n",
    "u2_step = 10\n",
    "u2 = np.linspace(u2_min,u2_max,u2_step)\n",
    "x2 = 9.8668 * (np.cos(u2) + u2 * np.sin(u2))\n",
    "y2 = 9.8668 * (np.sin(u2) - u2 * np.cos(u2))"
   ]
  },
  {
   "cell_type": "markdown",
   "metadata": {},
   "source": [
    "##### Test Metrics Unit 3"
   ]
  },
  {
   "cell_type": "code",
   "execution_count": 5,
   "metadata": {},
   "outputs": [
    {
     "name": "stdout",
     "output_type": "stream",
     "text": [
      "1.0\n"
     ]
    }
   ],
   "source": [
    "# this cell compares metrics from obove cell with same mitrics using 22 teeth\n",
    "z3 = 22 # number of teeth \n",
    "ref_dia3 = 22 # reference diameter\n",
    "ref_radius3 = ref_dia3 / 2 # reference radius\n",
    "base_dia3 = 20.6732\n",
    "base_radius3 = base_dia3 / 2\n",
    "tip_diameter3 = 24\n",
    "z1_3_thickness = 9.8879\n",
    "pitch3 = (np.pi*ref_dia3) / z3 # pitch\n",
    "module3 = ref_dia3 / z3 # module\n",
    "print(module3)"
   ]
  },
  {
   "cell_type": "code",
   "execution_count": 11,
   "metadata": {},
   "outputs": [],
   "source": [
    "# expected results from above cell\n",
    "u3_min = 0\n",
    "u3_max = 0.4986\n",
    "u3_step = 10\n",
    "u3 = np.linspace(u3_min,u3_max,u3_step)\n",
    "x3 = 10.3366 * (np.cos(u3) + u3 * np.sin(u3))\n",
    "y3 = 10.3366 * (np.sin(u3) - u3 * np.cos(u3))"
   ]
  },
  {
   "cell_type": "markdown",
   "metadata": {},
   "source": [
    "### Test Metrics Unit 4"
   ]
  },
  {
   "cell_type": "code",
   "execution_count": 20,
   "metadata": {},
   "outputs": [
    {
     "name": "stdout",
     "output_type": "stream",
     "text": [
      "1.0\n"
     ]
    }
   ],
   "source": [
    "# this cell compares metrics from obove cell with same mitrics using 23 teeth\n",
    "z4 = 23 # number of teeth \n",
    "ref_dia4 = 23 # reference diameter\n",
    "ref_radius4 = ref_dia4 / 2 # reference radius\n",
    "base_dia4 = 21.6129\n",
    "base_radius4 = base_dia4 / 2\n",
    "tip_diameter4 = 25\n",
    "z4_thickness = 9.5340\n",
    "pitch4 = (np.pi*ref_dia4) / z4 # pitch\n",
    "module4 = ref_dia4 / z4 # module\n",
    "print(module4)"
   ]
  },
  {
   "cell_type": "code",
   "execution_count": 17,
   "metadata": {},
   "outputs": [
    {
     "data": {
      "image/png": "[encoded data removed]",
      "text/plain": [
       "<Figure size 432x288 with 1 Axes>"
      ]
     },
     "metadata": {
      "needs_background": "light"
     },
     "output_type": "display_data"
    }
   ],
   "source": [
    "# plotting\n",
    "\n",
    "# unit one\n",
    "plt.plot(x1,y1, label='involute of 20 tooth gear')\n",
    "# plt.plot(base_radius_1*np.cos(u),base_radius_1*np.sin(u),'k-')\n",
    "# plt.plot((ref_dia1/2)*np.cos(u),(ref_dia1/2)*np.sin(u), color='blue',label='reference diameter')\n",
    "# plt.plot((tip_diameter_1 / 2)*np.cos(u),(tip_diameter_1 / 2)*np.sin(u),'k-')\n",
    "# print(x1,y1)\n",
    "\n",
    "# # unit two\n",
    "plt.plot(x2,y2, label='involute of 21 tooth gear')\n",
    "# plt.plot(base_radius_2*np.cos(u),base_radius_2*np.sin(u),'k-')\n",
    "# plt.plot((ref_dia1_2 / 2)*np.cos(u),(ref_dia1_2 / 2)*np.sin(u), color='blue')\n",
    "# plt.plot((tip_diameter_2 / 2)*np.cos(u),(tip_diameter_2 / 2)*np.sin(u),'k-')\n",
    "\n",
    "\n",
    "# unit three\n",
    "plt.plot(x3,y3, label='involute of 22 tooth gear')\n",
    "# plt.plot(base_radius_3*np.cos(u),base_radius_3*np.sin(u),'k-')\n",
    "# plt.plot((tip_diameter_3/2)*np.cos(u),(tip_diameter_3/2)*np.sin(u),'k-')\n",
    "# plt.plot(ref_radius1_3*np.cos(u),ref_radius1_3*np.sin(u), color='blue')\n",
    "\n",
    "squares = 50\n",
    "plt.legend()\n",
    "plt.axis('square')\n",
    "plt.grid()\n",
    "# plt.axis([-squares,squares,-squares,squares])\n",
    "plt.axis([5,15,-5,5])\n",
    "plt.show()"
   ]
  },
  {
   "cell_type": "code",
   "execution_count": 24,
   "metadata": {},
   "outputs": [
    {
     "name": "stdout",
     "output_type": "stream",
     "text": [
      "[0.         0.00106486 0.00851102 0.02868063 0.06783764 0.13212926\n",
      " 0.22754778 0.35989323 0.5347369  0.75738588]\n"
     ]
    }
   ],
   "source": [
    "print(y1_3)"
   ]
  },
  {
   "cell_type": "markdown",
   "metadata": {},
   "source": [
    "### Exportation"
   ]
  },
  {
   "cell_type": "code",
   "execution_count": 32,
   "metadata": {},
   "outputs": [],
   "source": [
    "\n",
    "# this data is reliant on external .txt files to save coordinates too\n",
    "# change paths as required\n",
    "y_list = y1\n",
    "x_list = x1\n",
    "\n",
    "read_data_x = open(\"C:\\\\Users\\chris\\ChrisdeMontigny\\\\Nefari0 Repository\\Python\\Blender\\coord_data_x.txt\",\"w\")\n",
    "read_data_y = open(\"C:\\\\Users\\chris\\ChrisdeMontigny\\\\Nefari0 Repository\\Python\\Blender\\coord_data_y.txt\",\"w\")\n",
    "read_data_z = open(\"C:\\\\Users\\chris\\ChrisdeMontigny\\\\Nefari0 Repository\\Python\\Blender\\coord_data_z.txt\",\"w\")\n",
    "\n",
    "for i in range(len(x1_3)):\n",
    "    y_list = read_data_y.write(str(y1_3[i]) + ',')\n",
    "    x_list = read_data_x.write(str(x1_3[i]) + ',')\n",
    "#     z_list = read_data_z.write(str(z[i]) + ',')\n",
    "read_data_y.close()\n",
    "read_data_x.close()\n",
    "read_data_z.close()"
   ]
  },
  {
   "cell_type": "code",
   "execution_count": 18,
   "metadata": {},
   "outputs": [
    {
     "name": "stdout",
     "output_type": "stream",
     "text": [
      "[18.7939     18.82271862 18.90890915 19.05167697 19.24970225 19.50114666\n",
      " 19.80366285 20.15440642 20.55005058 20.98680325]\n"
     ]
    }
   ],
   "source": [
    "print(x1_3)"
   ]
  },
  {
   "cell_type": "code",
   "execution_count": 12,
   "metadata": {},
   "outputs": [
    {
     "data": {
      "text/latex": [
       "$\\displaystyle 0.0, \\quad 0.0, \\quad 0.0$"
      ],
      "text/plain": [
       "<IPython.core.display.Math object>"
      ]
     },
     "metadata": {},
     "output_type": "display_data"
    },
    {
     "data": {
      "text/latex": [
       "$\\displaystyle 0.06761111111111112, \\quad 0.05967777777777778, \\quad 0.0554$"
      ],
      "text/plain": [
       "<IPython.core.display.Math object>"
      ]
     },
     "metadata": {},
     "output_type": "display_data"
    },
    {
     "data": {
      "text/latex": [
       "$\\displaystyle 0.13522222222222224, \\quad 0.11935555555555556, \\quad 0.1108$"
      ],
      "text/plain": [
       "<IPython.core.display.Math object>"
      ]
     },
     "metadata": {},
     "output_type": "display_data"
    },
    {
     "data": {
      "text/latex": [
       "$\\displaystyle 0.20283333333333337, \\quad 0.17903333333333335, \\quad 0.1662$"
      ],
      "text/plain": [
       "<IPython.core.display.Math object>"
      ]
     },
     "metadata": {},
     "output_type": "display_data"
    },
    {
     "data": {
      "text/latex": [
       "$\\displaystyle 0.2704444444444445, \\quad 0.23871111111111112, \\quad 0.2216$"
      ],
      "text/plain": [
       "<IPython.core.display.Math object>"
      ]
     },
     "metadata": {},
     "output_type": "display_data"
    },
    {
     "data": {
      "text/latex": [
       "$\\displaystyle 0.3380555555555556, \\quad 0.2983888888888889, \\quad 0.27699999999999997$"
      ],
      "text/plain": [
       "<IPython.core.display.Math object>"
      ]
     },
     "metadata": {},
     "output_type": "display_data"
    },
    {
     "data": {
      "text/latex": [
       "$\\displaystyle 0.40566666666666673, \\quad 0.3580666666666667, \\quad 0.3324$"
      ],
      "text/plain": [
       "<IPython.core.display.Math object>"
      ]
     },
     "metadata": {},
     "output_type": "display_data"
    },
    {
     "data": {
      "text/latex": [
       "$\\displaystyle 0.47327777777777785, \\quad 0.4177444444444445, \\quad 0.3878$"
      ],
      "text/plain": [
       "<IPython.core.display.Math object>"
      ]
     },
     "metadata": {},
     "output_type": "display_data"
    },
    {
     "data": {
      "text/latex": [
       "$\\displaystyle 0.540888888888889, \\quad 0.47742222222222225, \\quad 0.4432$"
      ],
      "text/plain": [
       "<IPython.core.display.Math object>"
      ]
     },
     "metadata": {},
     "output_type": "display_data"
    },
    {
     "data": {
      "text/latex": [
       "$\\displaystyle 0.6085, \\quad 0.5371, \\quad 0.4986$"
      ],
      "text/plain": [
       "<IPython.core.display.Math object>"
      ]
     },
     "metadata": {},
     "output_type": "display_data"
    }
   ],
   "source": [
    "# analytics\n",
    "# this cell displays the index values of the u scales for \n",
    "# each gear calculation\n",
    "for i in range(len(u1)):\n",
    "    display(Math('%s, \\\\quad %s, \\\\quad %s' %(u1[i],u1_2[i],u1_3[i])))"
   ]
  },
  {
   "cell_type": "code",
   "execution_count": 13,
   "metadata": {},
   "outputs": [
    {
     "name": "stdout",
     "output_type": "stream",
     "text": [
      "0.6031000000000013\n",
      "0.6031000000000013\n"
     ]
    }
   ],
   "source": [
    "# analytics\n",
    "\n",
    "diffs1 = (tip_diameter_3-base_dia1_3)-(tip_diameter_2-base_dia1_2)\n",
    "diffs2 = (tip_diameter_2-base_dia1_2)-(tip_diameter_1-base_dia1)\n",
    "\n",
    "print(diffs1)\n",
    "print(diffs2)"
   ]
  },
  {
   "cell_type": "markdown",
   "metadata": {},
   "source": [
    "#### Test Results"
   ]
  },
  {
   "cell_type": "code",
   "execution_count": 14,
   "metadata": {},
   "outputs": [],
   "source": [
    "# These test results indicate that the length of the teeth increase by\n",
    "# .0.6031000000000013 mm when 10 teeth are added to the gear. this \n",
    "# quantity can probaby by linearly spaced by 10, and used to efficiently\n",
    "# calulate tooth length. \n",
    "\n",
    "# These results are dependant on a 20 degree pressure angle"
   ]
  },
  {
   "cell_type": "markdown",
   "metadata": {},
   "source": [
    "###### Calculation Prototyping"
   ]
  },
  {
   "cell_type": "code",
   "execution_count": 15,
   "metadata": {},
   "outputs": [
    {
     "name": "stdout",
     "output_type": "stream",
     "text": [
      "15.0\n"
     ]
    }
   ],
   "source": [
    "# gear one parameters # experimental/default\n",
    "# this will be the larger gear with 20 teeth\n",
    "# this cell is contains the imput parameters for gear one. The objective is to use this information to calutate all the parameters of the cell(s) below\n",
    "\n",
    "# Addendum = 1\n",
    "# Dedendum = 1.25\n",
    "# depth = addendum + dedendum\n",
    "\n",
    "u = np.linspace(0,2*np.pi,200)\n",
    "z1 = 20 # number of teeth\n",
    "module_1 = 2\n",
    "\n",
    "# reference diameter\n",
    "ref_diameter_1 = z1 * module1\n",
    "ref_radius_1 = ref_diameter_1 / 2 # reference radius\n",
    "\n",
    "# tip diameter\n",
    "tip_diameter_1 = ref_diameter_1 + (2 * module_1)\n",
    "\n",
    "# base diameter\n",
    "base_diameter_1 = ref_diameter_1 - (2.5 * module_1)\n",
    "# base_radius_1 = base_dia1 / 2\n",
    "\n",
    "# tip_diameter_1 = 22\n",
    "pitch1 = ref_dia1 / z1 # pitch\n",
    "z1_thickness = pitch1 / 2 # tooth thickness at base\n",
    "# module1 = ref_dia1 / z1 # module\n",
    "print(base_diameter_1)\n"
   ]
  },
  {
   "cell_type": "code",
   "execution_count": 16,
   "metadata": {},
   "outputs": [
    {
     "data": {
      "text/plain": [
       "0.5455"
      ]
     },
     "execution_count": 16,
     "metadata": {},
     "output_type": "execute_result"
    }
   ],
   "source": [
    "# expected results from cell above (20 teeth)\n",
    "# these are the pre-determined parameters to test the 'calculated' parameters agains\n",
    "u1_min = 0\n",
    "u1_max = .6085\n",
    "u1_step = 10\n",
    "u1 = np.linspace(u1_min,u1_max,u1_step)\n",
    "x1 = 9.3969 * (np.cos(u1) + u1 * np.sin(u1))\n",
    "y1 = 9.3969 * (np.sin(u1) - u1 * np.cos(u1))\n",
    ".5245\n",
    ".5471\n",
    ".5455"
   ]
  },
  {
   "cell_type": "markdown",
   "metadata": {},
   "source": [
    "### Gear 1 Calulation"
   ]
  },
  {
   "cell_type": "code",
   "execution_count": null,
   "metadata": {},
   "outputs": [],
   "source": []
  },
  {
   "cell_type": "code",
   "execution_count": 17,
   "metadata": {},
   "outputs": [
    {
     "name": "stdout",
     "output_type": "stream",
     "text": [
      "1.0\n"
     ]
    }
   ],
   "source": [
    "# gear one parameters # experimental/default\n",
    "# this will be the larger gear with 20 teeth\n",
    "# this cell is contains the imput parameters for gear one. The objective is to use this information to calutate all the parameters of the cell(s) below\n",
    "\n",
    "u = np.linspace(0,2*np.pi,200)\n",
    "z1 = 20 # number of teeth \n",
    "ref_dia1 = 20 # reference diameter\n",
    "ref_radius1 = ref_dia1 / 2 # reference radius\n",
    "base_dia1 = 18.7939\n",
    "base_radius_1 = base_dia1 / 2\n",
    "z1_thickness = 10.7079 # tooth thickness at base\n",
    "tip_diameter_1 = 22\n",
    "pitch1 = (np.pi*ref_dia1) / z1 # pitch\n",
    "module1 = ref_dia1 / z1 # module\n",
    "print(module1)"
   ]
  },
  {
   "cell_type": "code",
   "execution_count": 18,
   "metadata": {},
   "outputs": [],
   "source": [
    "# expected results from cell above (20 teeth)\n",
    "# these are the pre-determined parameters to test the 'calculated' parameters agains\n",
    "u1_min = 0\n",
    "u1_max = .6085\n",
    "u1_step = 10\n",
    "u1 = np.linspace(u1_min,u1_max,u1_step)\n",
    "x1 = 9.3969 * (np.cos(u1) + u1 * np.sin(u1))\n",
    "y1 = 9.3969 * (np.sin(u1) - u1 * np.cos(u1))\n"
   ]
  },
  {
   "cell_type": "markdown",
   "metadata": {},
   "source": [
    "### Gear 2 Calculation"
   ]
  },
  {
   "cell_type": "code",
   "execution_count": 19,
   "metadata": {},
   "outputs": [
    {
     "name": "stdout",
     "output_type": "stream",
     "text": [
      "1.0\n"
     ]
    }
   ],
   "source": [
    "# gear two parameters # experimental/default\n",
    "z2 = 10 # number of teeth\n",
    "ref_dia2 = 10 # reference diameter\n",
    "pitch2 = (np.pi*ref_dia2) / z2 # pitch\n",
    "module2 = ref_dia2 / z2 # module\n",
    "print(module2)"
   ]
  },
  {
   "cell_type": "code",
   "execution_count": 20,
   "metadata": {},
   "outputs": [
    {
     "name": "stdout",
     "output_type": "stream",
     "text": [
      "1.0\n"
     ]
    }
   ],
   "source": [
    "print(module2)"
   ]
  },
  {
   "cell_type": "code",
   "execution_count": 41,
   "metadata": {
    "scrolled": true
   },
   "outputs": [
    {
     "name": "stdout",
     "output_type": "stream",
     "text": [
      "7.9874,8.007816031455954,8.068750665373484,8.169266193548289,8.307808660313992,8.482221132660586,8.689762145067473,8.9271291867716,9.190487062894663,9.475500925666607,7.9874,8.007816031455954,8.068750665373484,8.169266193548289,8.307808660313992,8.482221132660586,8.689762145067473,8.9271291867716,9.190487062894663,9.475500925666607,\n"
     ]
    }
   ],
   "source": [
    "# experimental / possible implementation in machine learning\n",
    "\n",
    "u1_min = 0\n",
    "u1_max = .6439\n",
    "u1_step = 10\n",
    "u1 = np.linspace(u1_min,u1_max,u1_step)\n",
    "# u1 = np.linspace(0,2*np.pi,200)\n",
    "\n",
    "x = 7.9874 * (np.cos(u1) + u1 * np.sin(u1))\n",
    "y = 7.9874 * (np.sin(u1) - u1 * np.cos(u1))\n",
    "\n",
    "val_string = ''\n",
    "\n",
    "for i in range(len(x)):\n",
    "    val_string += str(x[i]) + ','\n",
    "for i in range(len(y)):\n",
    "    val_string += str(x[i]) + ','\n",
    "    \n",
    "print(val_string)"
   ]
  }
 ],
 "metadata": {
  "kernelspec": {
   "display_name": "Python 3",
   "language": "python",
   "name": "python3"
  },
  "language_info": {
   "codemirror_mode": {
    "name": "ipython",
    "version": 3
   },
   "file_extension": ".py",
   "mimetype": "text/x-python",
   "name": "python",
   "nbconvert_exporter": "python",
   "pygments_lexer": "ipython3",
   "version": "3.8.5"
  }
 },
 "nbformat": 4,
 "nbformat_minor": 4
}
