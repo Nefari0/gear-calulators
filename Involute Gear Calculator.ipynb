{
 "cells": [
  {
   "cell_type": "code",
   "execution_count": 130,
   "metadata": {},
   "outputs": [],
   "source": [
    "import numpy as np\n",
    "import matplotlib.pyplot as plt\n",
    "from IPython.display import display, Math\n",
    "import sympy as sym"
   ]
  },
  {
   "cell_type": "markdown",
   "metadata": {},
   "source": [
    "### Gear Metrix Testing"
   ]
  },
  {
   "cell_type": "code",
   "execution_count": null,
   "metadata": {},
   "outputs": [],
   "source": [
    "# The test cells below are for analyzing the parameters of gears \n",
    "# with different numbers of teeth. they are not part of the calulation \n",
    "# algorithm"
   ]
  },
  {
   "cell_type": "markdown",
   "metadata": {},
   "source": [
    "#####  Test Metrics unit 1"
   ]
  },
  {
   "cell_type": "code",
   "execution_count": null,
   "metadata": {},
   "outputs": [],
   "source": [
    "# this will be the larger gear with 20 teeth\n",
    "# this cell is contains the imput parameters for gear one. The objective is to use this information to calutate all the parameters of the cell(s) below\n",
    "\n",
    "u = np.linspace(0,2*np.pi,200)\n",
    "z1 = 20 # number of teeth \n",
    "ref_dia1 = 20 # reference diameter\n",
    "ref_radius1 = ref_dia1 / 2 # reference radius\n",
    "base_dia1 = 18.7939\n",
    "base_radius_1 = base_dia1 / 2\n",
    "z1_thickness = 10.7079 # tooth thickness at base\n",
    "tip_diameter_1 = 22\n",
    "pitch1 = (np.pi*ref_dia1) / z1 # pitch\n",
    "module1 = ref_dia1 / z1 # module\n",
    "print(module1)"
   ]
  },
  {
   "cell_type": "code",
   "execution_count": null,
   "metadata": {},
   "outputs": [],
   "source": [
    "# expected results from cell above (20 teeth)\n",
    "# these are the pre-determined parameters to test the 'calculated' parameters agains\n",
    "u1_min = 0\n",
    "u1_max = .6085\n",
    "u1_step = 10\n",
    "u1 = np.linspace(u1_min,u1_max,u1_step)\n",
    "x1 = 9.3969 * (np.cos(u1) + u1 * np.sin(u1))\n",
    "y1 = 9.3969 * (np.sin(u1) - u1 * np.cos(u1))"
   ]
  },
  {
   "cell_type": "markdown",
   "metadata": {},
   "source": [
    "#####  Test Metrics unit 2"
   ]
  },
  {
   "cell_type": "code",
   "execution_count": 75,
   "metadata": {},
   "outputs": [
    {
     "name": "stdout",
     "output_type": "stream",
     "text": [
      "1.0\n"
     ]
    }
   ],
   "source": [
    "# this cell compares metrics from obove cell with same mitrics using 30 teeth\n",
    "z1_2 = 30 # number of teeth \n",
    "ref_dia1_2 = 30 # reference diameter\n",
    "ref_radius1_2 = ref_dia1 / 2 # reference radius\n",
    "base_dia1_2 = 28.1908\n",
    "base_radius_2 = base_dia1_2 / 2\n",
    "tip_diameter_2 = 32\n",
    "z1_2_thickness = 7.7079\n",
    "pitch1_2 = (np.pi*ref_dia1_2) / z1_2 # pitch\n",
    "module1_2 = ref_dia1_2 / z1_2 # module\n",
    "print(module1_2)"
   ]
  },
  {
   "cell_type": "code",
   "execution_count": 76,
   "metadata": {},
   "outputs": [],
   "source": [
    "# expected results from above cell\n",
    "u1_min2 = 0\n",
    "u1_max2 = .5371\n",
    "u1_step2 = 10\n",
    "u1_2 = np.linspace(u1_min2,u1_max2,u1_step2)\n",
    "x1_2 = 14.0954 * (np.cos(u1_2) + u1_2 * np.sin(u1_2))\n",
    "y1_2 = 14.0954 * (np.sin(u1_2) - u1_2 * np.cos(u1_2))"
   ]
  },
  {
   "cell_type": "markdown",
   "metadata": {},
   "source": [
    "##### TestMetrics Unit 3"
   ]
  },
  {
   "cell_type": "code",
   "execution_count": 116,
   "metadata": {},
   "outputs": [
    {
     "name": "stdout",
     "output_type": "stream",
     "text": [
      "1.0\n"
     ]
    }
   ],
   "source": [
    "# this cell compares metrics from obove cell with same mitrics using 40 teeth\n",
    "z1_3 = 40 # number of teeth \n",
    "ref_dia1_3 = 40 # reference diameter\n",
    "ref_radius1_3 = ref_dia1_3 / 2 # reference radius\n",
    "base_dia1_3 = 37.5877\n",
    "base_radius_3 = base_dia1_3 / 2\n",
    "tip_diameter_3 = 42\n",
    "z1_3_thickness = 6.2079\n",
    "pitch1_3 = (np.pi*ref_dia1_3) / z1_2 # pitch\n",
    "module1_3 = ref_dia1_3 / z1_3 # module\n",
    "print(module1_3)"
   ]
  },
  {
   "cell_type": "markdown",
   "metadata": {},
   "source": [
    "#### Print Test Results"
   ]
  },
  {
   "cell_type": "code",
   "execution_count": 109,
   "metadata": {},
   "outputs": [
    {
     "name": "stdout",
     "output_type": "stream",
     "text": [
      "reference diameter 20 30 40\n",
      "base diameter 18.7939 28.1908 37.5877\n",
      "tip diameter 22 32 42\n"
     ]
    }
   ],
   "source": [
    "# print test results\n",
    "\n",
    "print('reference diameter',ref_dia1,ref_dia1_2,ref_dia1_3)\n",
    "print('base diameter',base_dia1,base_dia1_2 ,base_dia1_3)\n",
    "print('tip diameter',tip_diameter_1,tip_diameter_2,tip_diameter_3)"
   ]
  },
  {
   "cell_type": "code",
   "execution_count": 86,
   "metadata": {},
   "outputs": [],
   "source": [
    "# expected results from above cell\n",
    "u1_min3 = 0\n",
    "u1_max3 = 0.4986\n",
    "u1_step3 = 10\n",
    "u1_3 = np.linspace(u1_min3,u1_max3,u1_step3)\n",
    "x1_3 = 18.7939 * (np.cos(u1_3) + u1_3 * np.sin(u1_3))\n",
    "y1_3 = 18.7939 * (np.sin(u1_3) - u1_3 * np.cos(u1_3))"
   ]
  },
  {
   "cell_type": "code",
   "execution_count": 141,
   "metadata": {},
   "outputs": [
    {
     "data": {
      "image/png": "[encoded data removed]",
      "text/plain": [
       "<Figure size 432x288 with 1 Axes>"
      ]
     },
     "metadata": {
      "needs_background": "light"
     },
     "output_type": "display_data"
    }
   ],
   "source": [
    "# plotting\n",
    "\n",
    "# unit one\n",
    "plt.plot(x1,y1)\n",
    "plt.plot(base_radius_1*np.cos(u),base_radius_1*np.sin(u), label='first')\n",
    "plt.plot((ref_dia1/2)*np.cos(u),(ref_dia1/2)*np.sin(u))\n",
    "\n",
    "# unit two\n",
    "plt.plot(x1_2,y1_2)\n",
    "plt.plot(base_radius_2*np.cos(u),base_radius_2*np.sin(u), label='second')\n",
    "\n",
    "\n",
    "# unit three\n",
    "plt.plot(x1_3,y1_3)\n",
    "plt.plot(base_radius_3*np.cos(u),base_radius_3*np.sin(u), label='third')\n",
    "plt.plot((tip_diameter_3/2)*np.cos(u),(tip_diameter_3/2)*np.sin(u))\n",
    "plt.plot(ref_radius1_3*np.cos(u),ref_radius1_3*np.sin(u))\n",
    "\n",
    "squares = 50\n",
    "plt.legend()\n",
    "plt.axis('square')\n",
    "plt.grid()\n",
    "# plt.axis([-squares,squares,-squares,squares])\n",
    "plt.axis([0,25,-10,10])\n",
    "plt.show()"
   ]
  },
  {
   "cell_type": "code",
   "execution_count": 138,
   "metadata": {},
   "outputs": [
    {
     "data": {
      "text/latex": [
       "$\\displaystyle 0.0, \\quad 0.0, \\quad 0.0$"
      ],
      "text/plain": [
       "<IPython.core.display.Math object>"
      ]
     },
     "metadata": {},
     "output_type": "display_data"
    },
    {
     "data": {
      "text/latex": [
       "$\\displaystyle 0.06761111111111112, \\quad 0.05967777777777778, \\quad 0.0554$"
      ],
      "text/plain": [
       "<IPython.core.display.Math object>"
      ]
     },
     "metadata": {},
     "output_type": "display_data"
    },
    {
     "data": {
      "text/latex": [
       "$\\displaystyle 0.13522222222222224, \\quad 0.11935555555555556, \\quad 0.1108$"
      ],
      "text/plain": [
       "<IPython.core.display.Math object>"
      ]
     },
     "metadata": {},
     "output_type": "display_data"
    },
    {
     "data": {
      "text/latex": [
       "$\\displaystyle 0.20283333333333337, \\quad 0.17903333333333335, \\quad 0.1662$"
      ],
      "text/plain": [
       "<IPython.core.display.Math object>"
      ]
     },
     "metadata": {},
     "output_type": "display_data"
    },
    {
     "data": {
      "text/latex": [
       "$\\displaystyle 0.2704444444444445, \\quad 0.23871111111111112, \\quad 0.2216$"
      ],
      "text/plain": [
       "<IPython.core.display.Math object>"
      ]
     },
     "metadata": {},
     "output_type": "display_data"
    },
    {
     "data": {
      "text/latex": [
       "$\\displaystyle 0.3380555555555556, \\quad 0.2983888888888889, \\quad 0.27699999999999997$"
      ],
      "text/plain": [
       "<IPython.core.display.Math object>"
      ]
     },
     "metadata": {},
     "output_type": "display_data"
    },
    {
     "data": {
      "text/latex": [
       "$\\displaystyle 0.40566666666666673, \\quad 0.3580666666666667, \\quad 0.3324$"
      ],
      "text/plain": [
       "<IPython.core.display.Math object>"
      ]
     },
     "metadata": {},
     "output_type": "display_data"
    },
    {
     "data": {
      "text/latex": [
       "$\\displaystyle 0.47327777777777785, \\quad 0.4177444444444445, \\quad 0.3878$"
      ],
      "text/plain": [
       "<IPython.core.display.Math object>"
      ]
     },
     "metadata": {},
     "output_type": "display_data"
    },
    {
     "data": {
      "text/latex": [
       "$\\displaystyle 0.540888888888889, \\quad 0.47742222222222225, \\quad 0.4432$"
      ],
      "text/plain": [
       "<IPython.core.display.Math object>"
      ]
     },
     "metadata": {},
     "output_type": "display_data"
    },
    {
     "data": {
      "text/latex": [
       "$\\displaystyle 0.6085, \\quad 0.5371, \\quad 0.4986$"
      ],
      "text/plain": [
       "<IPython.core.display.Math object>"
      ]
     },
     "metadata": {},
     "output_type": "display_data"
    }
   ],
   "source": [
    "# analytics\n",
    "# this cell displays the index values of the u scales for \n",
    "# each gear calculation\n",
    "for i in range(len(u1)):\n",
    "    display(Math('%s, \\\\quad %s, \\\\quad %s' %(u1[i],u1_2[i],u1_3[i])))"
   ]
  },
  {
   "cell_type": "code",
   "execution_count": 150,
   "metadata": {},
   "outputs": [
    {
     "name": "stdout",
     "output_type": "stream",
     "text": [
      "0.6031000000000013\n",
      "0.6031000000000013\n"
     ]
    }
   ],
   "source": [
    "# analytics\n",
    "\n",
    "diffs1 = (tip_diameter_3-base_dia1_3)-(tip_diameter_2-base_dia1_2)\n",
    "diffs2 = (tip_diameter_2-base_dia1_2)-(tip_diameter_1-base_dia1)\n",
    "\n",
    "print(diffs1)\n",
    "print(diffs2)"
   ]
  },
  {
   "cell_type": "markdown",
   "metadata": {},
   "source": [
    "#### Test Results"
   ]
  },
  {
   "cell_type": "code",
   "execution_count": null,
   "metadata": {},
   "outputs": [],
   "source": [
    "# These test results indicate that the length of the teeth increase by\n",
    "# .0.6031000000000013 mm when 10 teeth are added to the gear. this \n",
    "# quantity can probaby by linearly spaced by 10, and used to efficiently\n",
    "# calulate tooth length. \n",
    "\n",
    "# These results are dependant on a 20 degree pressure angle"
   ]
  },
  {
   "cell_type": "markdown",
   "metadata": {},
   "source": [
    "### Gear 1 Calulation"
   ]
  },
  {
   "cell_type": "code",
   "execution_count": 105,
   "metadata": {},
   "outputs": [
    {
     "name": "stdout",
     "output_type": "stream",
     "text": [
      "1.0\n"
     ]
    }
   ],
   "source": [
    "# gear one parameters # experimental/default\n",
    "# this will be the larger gear with 20 teeth\n",
    "# this cell is contains the imput parameters for gear one. The objective is to use this information to calutate all the parameters of the cell(s) below\n",
    "\n",
    "u = np.linspace(0,2*np.pi,200)\n",
    "z1 = 20 # number of teeth \n",
    "ref_dia1 = 20 # reference diameter\n",
    "ref_radius1 = ref_dia1 / 2 # reference radius\n",
    "base_dia1 = 18.7939\n",
    "base_radius_1 = base_dia1 / 2\n",
    "z1_thickness = 10.7079 # tooth thickness at base\n",
    "tip_diameter_1 = 22\n",
    "pitch1 = (np.pi*ref_dia1) / z1 # pitch\n",
    "module1 = ref_dia1 / z1 # module\n",
    "print(module1)"
   ]
  },
  {
   "cell_type": "code",
   "execution_count": 74,
   "metadata": {},
   "outputs": [],
   "source": [
    "# expected results from cell above (20 teeth)\n",
    "# these are the pre-determined parameters to test the 'calculated' parameters agains\n",
    "u1_min = 0\n",
    "u1_max = .6085\n",
    "u1_step = 10\n",
    "u1 = np.linspace(u1_min,u1_max,u1_step)\n",
    "x1 = 9.3969 * (np.cos(u1) + u1 * np.sin(u1))\n",
    "y1 = 9.3969 * (np.sin(u1) - u1 * np.cos(u1))\n"
   ]
  },
  {
   "cell_type": "markdown",
   "metadata": {},
   "source": [
    "### Gear 2 Calculation"
   ]
  },
  {
   "cell_type": "code",
   "execution_count": 32,
   "metadata": {},
   "outputs": [
    {
     "name": "stdout",
     "output_type": "stream",
     "text": [
      "1.0\n"
     ]
    }
   ],
   "source": [
    "# gear two parameters # experimental/default\n",
    "z2 = 10 # number of teeth\n",
    "ref_dia2 = 10 # reference diameter\n",
    "pitch2 = (np.pi*ref_dia2) / z2 # pitch\n",
    "module2 = ref_dia2 / z2 # module\n",
    "print(module2)"
   ]
  },
  {
   "cell_type": "code",
   "execution_count": 15,
   "metadata": {},
   "outputs": [
    {
     "name": "stdout",
     "output_type": "stream",
     "text": [
      "0.6\n"
     ]
    }
   ],
   "source": [
    "print(module2)"
   ]
  }
 ],
 "metadata": {
  "kernelspec": {
   "display_name": "Python 3",
   "language": "python",
   "name": "python3"
  },
  "language_info": {
   "codemirror_mode": {
    "name": "ipython",
    "version": 3
   },
   "file_extension": ".py",
   "mimetype": "text/x-python",
   "name": "python",
   "nbconvert_exporter": "python",
   "pygments_lexer": "ipython3",
   "version": "3.8.5"
  }
 },
 "nbformat": 4,
 "nbformat_minor": 4
}
